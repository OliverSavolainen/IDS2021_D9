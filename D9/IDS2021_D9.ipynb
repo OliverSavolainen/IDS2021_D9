{
 "cells": [
  {
   "cell_type": "markdown",
   "metadata": {},
   "source": [
    "# Prediction of Premier League Results"
   ]
  },
  {
   "cell_type": "code",
   "execution_count": 75,
   "metadata": {},
   "outputs": [],
   "source": [
    "import pandas as pd \n",
    "seasons = ['1718','1819','1920','2021']\n",
    "full_teamdata = []\n",
    "for season in seasons:\n",
    "    table = pd.read_csv(season + 'table.csv')\n",
    "    forteam = pd.read_csv(season + 'for.csv')\n",
    "    against = pd.read_csv(season + 'against.csv')\n",
    "    shot = pd.read_csv(season + 'shot.csv')\n",
    "    season_full = pd.concat([table,forteam,against,shot],axis=1)\n",
    "    full_teamdata.append(season_full)\n",
    "full_teamtable = pd.concat(full_teamdata,ignore_index=True)"
   ]
  },
  {
   "cell_type": "code",
   "execution_count": 110,
   "metadata": {},
   "outputs": [
    {
     "name": "stdout",
     "output_type": "stream",
     "text": [
      "                         home                    away                   date  \\\n",
      "6462        Manchester United          Leicester City      Friday, August 10   \n",
      "6463         Newcastle United       Tottenham Hotspur    Saturday, August 11   \n",
      "6466        Huddersfield Town                 Chelsea    Saturday, August 11   \n",
      "6467                  Watford  Brighton & Hove Albion    Saturday, August 11   \n",
      "6469                Liverpool         West Ham United      Sunday, August 12   \n",
      "...                       ...                     ...                    ...   \n",
      "7724                  Burnley          Crystal Palace  Saturday, November 20   \n",
      "7728  Wolverhampton Wanderers         West Ham United  Saturday, November 20   \n",
      "7729                Liverpool                 Arsenal  Saturday, November 20   \n",
      "7730          Manchester City                 Everton    Sunday, November 21   \n",
      "7731        Tottenham Hotspur            Leeds United    Sunday, November 21   \n",
      "\n",
      "      year time (utc) attendance                            league  \\\n",
      "6462  2018      19:00     74,439  2018/2019 English Premier League   \n",
      "6463  2018      11:30     51,749  2018/2019 English Premier League   \n",
      "6466  2018      14:00     24,121  2018/2019 English Premier League   \n",
      "6467  2018      14:00     20,051  2018/2019 English Premier League   \n",
      "6469  2018      12:30     53,235  2018/2019 English Premier League   \n",
      "...    ...        ...        ...                               ...   \n",
      "7724  2021      15:00     18,028    2021-22 English Premier League   \n",
      "7728  2021      15:00     30,667    2021-22 English Premier League   \n",
      "7729  2021      17:30     53,092    2021-22 English Premier League   \n",
      "7730  2021      14:00     52,571    2021-22 English Premier League   \n",
      "7731  2021      16:30     58,989    2021-22 English Premier League   \n",
      "\n",
      "      home_score  away_score  home_starting_1  ...  away_starting_2  \\\n",
      "6462           2           1     David de Gea  ...    Harry Maguire   \n",
      "6463           1           2  Martin Dubravka  ...   Jan Vertonghen   \n",
      "6466           0           3        Ben Hamer  ...       David Luiz   \n",
      "6467           2           0       Ben Foster  ...       Lewis Dunk   \n",
      "6469           4           0          Alisson  ...   Angelo Ogbonna   \n",
      "...          ...         ...              ...  ...              ...   \n",
      "7724           3           3        Nick Pope  ...       Marc Guehi   \n",
      "7728           1           0          José Sá  ...       Kurt Zouma   \n",
      "7729           4           0          Alisson  ...          Gabriel   \n",
      "7730           3           0          Ederson  ...    Michael Keane   \n",
      "7731           2           1      Hugo Lloris  ...  Kalvin Phillips   \n",
      "\n",
      "       away_starting_3  away_starting_4    away_starting_5  \\\n",
      "6462        Wes Morgan     Ben Chilwell     Daniel Amartey   \n",
      "6463  Davinson Sánchez       Ben Davies       Serge Aurier   \n",
      "6466   Antonio Rüdiger    Marcos Alonso  César Azpilicueta   \n",
      "6467       Shane Duffy         Bernardo              Bruno   \n",
      "6469   Fabián Balbuena   Arthur Masuaku    Ryan Fredericks   \n",
      "...                ...              ...                ...   \n",
      "7724  Joachim Andersen  Tyrick Mitchell          Joel Ward   \n",
      "7728      Craig Dawson  Aaron Cresswell        Ben Johnson   \n",
      "7729         Ben White     Nuno Tavares  Takehiro Tomiyasu   \n",
      "7730       Ben Godfrey      Lucas Digne     Seamus Coleman   \n",
      "7731       Liam Cooper   Diego Llorente     Pascal Struijk   \n",
      "\n",
      "           away_starting_6   away_starting_7   away_starting_8  \\\n",
      "6462        James Maddison     Wilfred Ndidi      Adrien Silva   \n",
      "6463             Eric Dier         Dele Alli    Moussa Sissoko   \n",
      "6466              Jorginho      Ross Barkley      N'Golo Kanté   \n",
      "6467          Davy Propper     Dale Stephens       Solly March   \n",
      "6469         Jack Wilshere       Declan Rice        Mark Noble   \n",
      "...                    ...               ...               ...   \n",
      "7724      Luka Milivojevic  Cheikhou Kouyaté   Conor Gallagher   \n",
      "7728         Saïd Benrahma       Declan Rice      Tomás Soucek   \n",
      "7729  Albert Sambi Lokonga     Thomas Partey  Emile Smith Rowe   \n",
      "7730          Fabian Delph             Allan      Demarai Gray   \n",
      "7731         Stuart Dallas     Mateusz Klich      Adam Forshaw   \n",
      "\n",
      "        away_starting_9           away_starting_10     away_starting_11  \n",
      "6462  Kelechi Iheanacho               Demarai Gray      Ricardo Pereira  \n",
      "6463         Harry Kane          Christian Eriksen          Lucas Moura  \n",
      "6466      Álvaro Morata                    Willian                Pedro  \n",
      "6467  Anthony Knockaert               Glenn Murray         Pascal Gross  \n",
      "6469   Marko Arnautovic            Felipe Anderson      Michail Antonio  \n",
      "...                 ...                        ...                  ...  \n",
      "7724  Christian Benteke              Wilfried Zaha          Jordan Ayew  \n",
      "7728    Michail Antonio              Pablo Fornals         Jarrod Bowen  \n",
      "7729        Bukayo Saka  Pierre-Emerick Aubameyang  Alexandre Lacazette  \n",
      "7730     Anthony Gordon                Richarlison      Andros Townsend  \n",
      "7731      Jack Harrison               Daniel James         Joe Gelhardt  \n",
      "\n",
      "[909 rows x 31 columns]\n"
     ]
    }
   ],
   "source": [
    "matches = pd.read_csv('matches.csv')\n",
    "promoted1819 = [\"Wolverhampton Wanderers\",\"Cardiff City\",\"Fulham\"]\n",
    "promoted1920 = [\"Norwich City\",\"Sheffield United\",\"Aston Villa\"]\n",
    "promoted2021 = [\"Leeds United\", \"West Bromwich Albion\",\"Fulham\"]\n",
    "promoted2122 = [\"Norwich City\",\"Watford\",\"Brentford\"]\n",
    "matches = matches[matches[\"league\"].isin([\"2018/2019 English Premier League\", \"2019-20 English Premier League\",\"2020-21 English Premier League\",\"2021-22 English Premier League\"])]\n",
    "matches = matches[((matches[\"league\"] == \"2018/2019 English Premier League\") & (~matches[\"home\"].isin(promoted1819)) & (~matches[\"away\"].isin(promoted1819))) | ((matches[\"league\"] == \"2019-20 English Premier League\") & (~matches[\"home\"].isin(promoted1920)) & (~matches[\"away\"].isin(promoted1920))) | ((matches[\"league\"] == \"2020-21 English Premier League\") & (~matches[\"home\"].isin(promoted2021)) & (~matches[\"away\"].isin(promoted2021))) | ((matches[\"league\"] == \"2021-22 English Premier League\") & (~matches[\"home\"].isin(promoted2122)) & (~matches[\"away\"].isin(promoted2122)))]"
   ]
  },
  {
   "cell_type": "code",
   "execution_count": null,
   "metadata": {},
   "outputs": [],
   "source": []
  }
 ],
 "metadata": {
  "kernelspec": {
   "display_name": "Python 3",
   "language": "python",
   "name": "python3"
  },
  "language_info": {
   "codemirror_mode": {
    "name": "ipython",
    "version": 3
   },
   "file_extension": ".py",
   "mimetype": "text/x-python",
   "name": "python",
   "nbconvert_exporter": "python",
   "pygments_lexer": "ipython3",
   "version": "3.8.8"
  }
 },
 "nbformat": 4,
 "nbformat_minor": 2
}
